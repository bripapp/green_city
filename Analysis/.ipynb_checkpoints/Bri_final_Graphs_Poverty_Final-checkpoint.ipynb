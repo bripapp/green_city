{
 "cells": [
  {
   "cell_type": "code",
   "execution_count": 4,
   "metadata": {},
   "outputs": [],
   "source": [
    "# Dependencies\n",
    "import numpy as np\n",
    "import pandas as pd\n",
    "import matplotlib.pyplot as plt\n",
    "\n",
    "import matplotlib\n",
    "#matplotlib.style.use('ggplot')\n",
    "\n",
    "import scipy.stats as st\n",
    "from scipy.stats import linregress\n",
    "from scipy.stats import sem\n",
    "\n",
    "import seaborn as sns"
   ]
  },
  {
   "cell_type": "code",
   "execution_count": 5,
   "metadata": {},
   "outputs": [],
   "source": [
    "csv6 = '../Resources/Visu_Income_All_Cities.csv'\n",
    "Final_Income_Life_mean_df = pd.read_csv(csv6)"
   ]
  },
  {
   "cell_type": "markdown",
   "metadata": {},
   "source": [
    "# San Francisco, CA "
   ]
  },
  {
   "cell_type": "code",
   "execution_count": 8,
   "metadata": {},
   "outputs": [
    {
     "ename": "KeyError",
     "evalue": "'County'",
     "output_type": "error",
     "traceback": [
      "\u001b[1;31m---------------------------------------------------------------------------\u001b[0m",
      "\u001b[1;31mKeyError\u001b[0m                                  Traceback (most recent call last)",
      "\u001b[1;32mC:\\ProgramData\\Anaconda3\\lib\\site-packages\\pandas\\core\\indexes\\base.py\u001b[0m in \u001b[0;36mget_loc\u001b[1;34m(self, key, method, tolerance)\u001b[0m\n\u001b[0;32m   2894\u001b[0m             \u001b[1;32mtry\u001b[0m\u001b[1;33m:\u001b[0m\u001b[1;33m\u001b[0m\u001b[1;33m\u001b[0m\u001b[0m\n\u001b[1;32m-> 2895\u001b[1;33m                 \u001b[1;32mreturn\u001b[0m \u001b[0mself\u001b[0m\u001b[1;33m.\u001b[0m\u001b[0m_engine\u001b[0m\u001b[1;33m.\u001b[0m\u001b[0mget_loc\u001b[0m\u001b[1;33m(\u001b[0m\u001b[0mcasted_key\u001b[0m\u001b[1;33m)\u001b[0m\u001b[1;33m\u001b[0m\u001b[1;33m\u001b[0m\u001b[0m\n\u001b[0m\u001b[0;32m   2896\u001b[0m             \u001b[1;32mexcept\u001b[0m \u001b[0mKeyError\u001b[0m \u001b[1;32mas\u001b[0m \u001b[0merr\u001b[0m\u001b[1;33m:\u001b[0m\u001b[1;33m\u001b[0m\u001b[1;33m\u001b[0m\u001b[0m\n",
      "\u001b[1;32mpandas\\_libs\\index.pyx\u001b[0m in \u001b[0;36mpandas._libs.index.IndexEngine.get_loc\u001b[1;34m()\u001b[0m\n",
      "\u001b[1;32mpandas\\_libs\\index.pyx\u001b[0m in \u001b[0;36mpandas._libs.index.IndexEngine.get_loc\u001b[1;34m()\u001b[0m\n",
      "\u001b[1;32mpandas\\_libs\\hashtable_class_helper.pxi\u001b[0m in \u001b[0;36mpandas._libs.hashtable.PyObjectHashTable.get_item\u001b[1;34m()\u001b[0m\n",
      "\u001b[1;32mpandas\\_libs\\hashtable_class_helper.pxi\u001b[0m in \u001b[0;36mpandas._libs.hashtable.PyObjectHashTable.get_item\u001b[1;34m()\u001b[0m\n",
      "\u001b[1;31mKeyError\u001b[0m: 'County'",
      "\nThe above exception was the direct cause of the following exception:\n",
      "\u001b[1;31mKeyError\u001b[0m                                  Traceback (most recent call last)",
      "\u001b[1;32m<ipython-input-8-e101cf356712>\u001b[0m in \u001b[0;36m<module>\u001b[1;34m\u001b[0m\n\u001b[1;32m----> 1\u001b[1;33m \u001b[0mSF_Income_Health_df\u001b[0m \u001b[1;33m=\u001b[0m \u001b[0mFinal_Income_Life_mean_df\u001b[0m\u001b[1;33m.\u001b[0m\u001b[0mloc\u001b[0m\u001b[1;33m[\u001b[0m\u001b[1;33m(\u001b[0m\u001b[0mFinal_Income_Life_mean_df\u001b[0m\u001b[1;33m[\u001b[0m\u001b[1;34m\"County\"\u001b[0m\u001b[1;33m]\u001b[0m\u001b[1;33m==\u001b[0m\u001b[1;34m\"Alameda County (CA)\"\u001b[0m\u001b[1;33m)\u001b[0m \u001b[1;33m|\u001b[0m \u001b[1;33m(\u001b[0m\u001b[0mFinal_Income_Life_mean_df\u001b[0m\u001b[1;33m[\u001b[0m\u001b[1;34m\"County\"\u001b[0m\u001b[1;33m]\u001b[0m\u001b[1;33m==\u001b[0m\u001b[1;34m\"Contra Costa County (CA)\"\u001b[0m\u001b[1;33m)\u001b[0m \u001b[1;33m|\u001b[0m \u001b[1;33m(\u001b[0m\u001b[0mFinal_Income_Life_mean_df\u001b[0m\u001b[1;33m[\u001b[0m\u001b[1;34m\"County\"\u001b[0m\u001b[1;33m]\u001b[0m\u001b[1;33m==\u001b[0m\u001b[1;34m\"Marin County (CA)\"\u001b[0m\u001b[1;33m)\u001b[0m \u001b[1;33m|\u001b[0m \u001b[1;33m(\u001b[0m\u001b[0mFinal_Income_Life_mean_df\u001b[0m\u001b[1;33m[\u001b[0m\u001b[1;34m\"County\"\u001b[0m\u001b[1;33m]\u001b[0m\u001b[1;33m==\u001b[0m\u001b[1;34m\"Napa County (CA)\"\u001b[0m\u001b[1;33m)\u001b[0m \u001b[1;33m|\u001b[0m \u001b[1;33m(\u001b[0m\u001b[0mFinal_Income_Life_mean_df\u001b[0m\u001b[1;33m[\u001b[0m\u001b[1;34m\"County\"\u001b[0m\u001b[1;33m]\u001b[0m\u001b[1;33m==\u001b[0m\u001b[1;34m\"San Francisco County (CA)\"\u001b[0m\u001b[1;33m)\u001b[0m \u001b[1;33m|\u001b[0m \u001b[1;33m(\u001b[0m\u001b[0mFinal_Income_Life_mean_df\u001b[0m\u001b[1;33m[\u001b[0m\u001b[1;34m\"County\"\u001b[0m\u001b[1;33m]\u001b[0m\u001b[1;33m==\u001b[0m\u001b[1;34m\"San Mateo County (CA)\"\u001b[0m\u001b[1;33m)\u001b[0m \u001b[1;33m|\u001b[0m \u001b[1;33m(\u001b[0m\u001b[0mFinal_Income_Life_mean_df\u001b[0m\u001b[1;33m[\u001b[0m\u001b[1;34m\"County\"\u001b[0m\u001b[1;33m]\u001b[0m\u001b[1;33m==\u001b[0m\u001b[1;34m\"Santa Clara County (CA)\"\u001b[0m\u001b[1;33m)\u001b[0m \u001b[1;33m|\u001b[0m \u001b[1;33m(\u001b[0m\u001b[0mFinal_Income_Life_mean_df\u001b[0m\u001b[1;33m[\u001b[0m\u001b[1;34m\"County\"\u001b[0m\u001b[1;33m]\u001b[0m\u001b[1;33m==\u001b[0m\u001b[1;34m\"Solano County (CA)\"\u001b[0m\u001b[1;33m)\u001b[0m \u001b[1;33m|\u001b[0m \u001b[1;33m(\u001b[0m\u001b[0mFinal_Income_Life_mean_df\u001b[0m\u001b[1;33m[\u001b[0m\u001b[1;34m\"County\"\u001b[0m\u001b[1;33m]\u001b[0m\u001b[1;33m==\u001b[0m\u001b[1;34m\"Sonoma County (CA)\"\u001b[0m\u001b[1;33m)\u001b[0m\u001b[1;33m]\u001b[0m\u001b[1;33m\u001b[0m\u001b[1;33m\u001b[0m\u001b[0m\n\u001b[0m\u001b[0;32m      2\u001b[0m \u001b[0mSF_Income_Health_df\u001b[0m\u001b[1;33m.\u001b[0m\u001b[0mhead\u001b[0m\u001b[1;33m(\u001b[0m\u001b[1;33m)\u001b[0m\u001b[1;33m\u001b[0m\u001b[1;33m\u001b[0m\u001b[0m\n",
      "\u001b[1;32mC:\\ProgramData\\Anaconda3\\lib\\site-packages\\pandas\\core\\frame.py\u001b[0m in \u001b[0;36m__getitem__\u001b[1;34m(self, key)\u001b[0m\n\u001b[0;32m   2900\u001b[0m             \u001b[1;32mif\u001b[0m \u001b[0mself\u001b[0m\u001b[1;33m.\u001b[0m\u001b[0mcolumns\u001b[0m\u001b[1;33m.\u001b[0m\u001b[0mnlevels\u001b[0m \u001b[1;33m>\u001b[0m \u001b[1;36m1\u001b[0m\u001b[1;33m:\u001b[0m\u001b[1;33m\u001b[0m\u001b[1;33m\u001b[0m\u001b[0m\n\u001b[0;32m   2901\u001b[0m                 \u001b[1;32mreturn\u001b[0m \u001b[0mself\u001b[0m\u001b[1;33m.\u001b[0m\u001b[0m_getitem_multilevel\u001b[0m\u001b[1;33m(\u001b[0m\u001b[0mkey\u001b[0m\u001b[1;33m)\u001b[0m\u001b[1;33m\u001b[0m\u001b[1;33m\u001b[0m\u001b[0m\n\u001b[1;32m-> 2902\u001b[1;33m             \u001b[0mindexer\u001b[0m \u001b[1;33m=\u001b[0m \u001b[0mself\u001b[0m\u001b[1;33m.\u001b[0m\u001b[0mcolumns\u001b[0m\u001b[1;33m.\u001b[0m\u001b[0mget_loc\u001b[0m\u001b[1;33m(\u001b[0m\u001b[0mkey\u001b[0m\u001b[1;33m)\u001b[0m\u001b[1;33m\u001b[0m\u001b[1;33m\u001b[0m\u001b[0m\n\u001b[0m\u001b[0;32m   2903\u001b[0m             \u001b[1;32mif\u001b[0m \u001b[0mis_integer\u001b[0m\u001b[1;33m(\u001b[0m\u001b[0mindexer\u001b[0m\u001b[1;33m)\u001b[0m\u001b[1;33m:\u001b[0m\u001b[1;33m\u001b[0m\u001b[1;33m\u001b[0m\u001b[0m\n\u001b[0;32m   2904\u001b[0m                 \u001b[0mindexer\u001b[0m \u001b[1;33m=\u001b[0m \u001b[1;33m[\u001b[0m\u001b[0mindexer\u001b[0m\u001b[1;33m]\u001b[0m\u001b[1;33m\u001b[0m\u001b[1;33m\u001b[0m\u001b[0m\n",
      "\u001b[1;32mC:\\ProgramData\\Anaconda3\\lib\\site-packages\\pandas\\core\\indexes\\base.py\u001b[0m in \u001b[0;36mget_loc\u001b[1;34m(self, key, method, tolerance)\u001b[0m\n\u001b[0;32m   2895\u001b[0m                 \u001b[1;32mreturn\u001b[0m \u001b[0mself\u001b[0m\u001b[1;33m.\u001b[0m\u001b[0m_engine\u001b[0m\u001b[1;33m.\u001b[0m\u001b[0mget_loc\u001b[0m\u001b[1;33m(\u001b[0m\u001b[0mcasted_key\u001b[0m\u001b[1;33m)\u001b[0m\u001b[1;33m\u001b[0m\u001b[1;33m\u001b[0m\u001b[0m\n\u001b[0;32m   2896\u001b[0m             \u001b[1;32mexcept\u001b[0m \u001b[0mKeyError\u001b[0m \u001b[1;32mas\u001b[0m \u001b[0merr\u001b[0m\u001b[1;33m:\u001b[0m\u001b[1;33m\u001b[0m\u001b[1;33m\u001b[0m\u001b[0m\n\u001b[1;32m-> 2897\u001b[1;33m                 \u001b[1;32mraise\u001b[0m \u001b[0mKeyError\u001b[0m\u001b[1;33m(\u001b[0m\u001b[0mkey\u001b[0m\u001b[1;33m)\u001b[0m \u001b[1;32mfrom\u001b[0m \u001b[0merr\u001b[0m\u001b[1;33m\u001b[0m\u001b[1;33m\u001b[0m\u001b[0m\n\u001b[0m\u001b[0;32m   2898\u001b[0m \u001b[1;33m\u001b[0m\u001b[0m\n\u001b[0;32m   2899\u001b[0m         \u001b[1;32mif\u001b[0m \u001b[0mtolerance\u001b[0m \u001b[1;32mis\u001b[0m \u001b[1;32mnot\u001b[0m \u001b[1;32mNone\u001b[0m\u001b[1;33m:\u001b[0m\u001b[1;33m\u001b[0m\u001b[1;33m\u001b[0m\u001b[0m\n",
      "\u001b[1;31mKeyError\u001b[0m: 'County'"
     ]
    }
   ],
   "source": [
    "SF_Income_Health_df = Final_Income_Life_mean_df.loc[(Final_Income_Life_mean_df[\"County\"]==\"Alameda County (CA)\") | (Final_Income_Life_mean_df[\"County\"]==\"Contra Costa County (CA)\") | (Final_Income_Life_mean_df[\"County\"]==\"Marin County (CA)\") | (Final_Income_Life_mean_df[\"County\"]==\"Napa County (CA)\") | (Final_Income_Life_mean_df[\"County\"]==\"San Francisco County (CA)\") | (Final_Income_Life_mean_df[\"County\"]==\"San Mateo County (CA)\") | (Final_Income_Life_mean_df[\"County\"]==\"Santa Clara County (CA)\") | (Final_Income_Life_mean_df[\"County\"]==\"Solano County (CA)\") | (Final_Income_Life_mean_df[\"County\"]==\"Sonoma County (CA)\")]\n",
    "SF_Income_Health_df.head()\n"
   ]
  },
  {
   "cell_type": "markdown",
   "metadata": {},
   "source": [
    "# Bar Graph _ San Francisco, CA"
   ]
  },
  {
   "cell_type": "code",
   "execution_count": 9,
   "metadata": {},
   "outputs": [
    {
     "ename": "NameError",
     "evalue": "name 'SF_Income_Health_df' is not defined",
     "output_type": "error",
     "traceback": [
      "\u001b[1;31m---------------------------------------------------------------------------\u001b[0m",
      "\u001b[1;31mNameError\u001b[0m                                 Traceback (most recent call last)",
      "\u001b[1;32m<ipython-input-9-3520a13f956f>\u001b[0m in \u001b[0;36m<module>\u001b[1;34m\u001b[0m\n\u001b[1;32m----> 1\u001b[1;33m \u001b[0mSF_County_Poverty_df\u001b[0m \u001b[1;33m=\u001b[0m \u001b[0mSF_Income_Health_df\u001b[0m\u001b[1;33m.\u001b[0m\u001b[0mloc\u001b[0m\u001b[1;33m[\u001b[0m\u001b[1;33m:\u001b[0m\u001b[1;33m,\u001b[0m \u001b[1;33m[\u001b[0m\u001b[1;34m\"County\"\u001b[0m\u001b[1;33m,\u001b[0m \u001b[1;34m\"All Ages in Poverty Percent\"\u001b[0m\u001b[1;33m]\u001b[0m\u001b[1;33m]\u001b[0m\u001b[1;33m\u001b[0m\u001b[1;33m\u001b[0m\u001b[0m\n\u001b[0m\u001b[0;32m      2\u001b[0m \u001b[0mSF_County_Poverty_df\u001b[0m\u001b[1;33m.\u001b[0m\u001b[0mset_index\u001b[0m\u001b[1;33m(\u001b[0m\u001b[1;34m\"County\"\u001b[0m\u001b[1;33m,\u001b[0m \u001b[0minplace\u001b[0m\u001b[1;33m=\u001b[0m\u001b[1;32mTrue\u001b[0m\u001b[1;33m)\u001b[0m\u001b[1;33m\u001b[0m\u001b[1;33m\u001b[0m\u001b[0m\n\u001b[0;32m      3\u001b[0m \u001b[0mSF_Pov_df\u001b[0m \u001b[1;33m=\u001b[0m \u001b[0mSF_County_Poverty_df\u001b[0m\u001b[1;33m.\u001b[0m\u001b[0mgroupby\u001b[0m\u001b[1;33m(\u001b[0m\u001b[1;33m[\u001b[0m\u001b[1;34m\"County\"\u001b[0m\u001b[1;33m]\u001b[0m\u001b[1;33m)\u001b[0m\u001b[1;33m\u001b[0m\u001b[1;33m\u001b[0m\u001b[0m\n\u001b[0;32m      4\u001b[0m \u001b[0mSF_Pov_df\u001b[0m \u001b[1;33m=\u001b[0m \u001b[0mSF_Pov_df\u001b[0m\u001b[1;33m.\u001b[0m\u001b[0mmean\u001b[0m\u001b[1;33m(\u001b[0m\u001b[1;33m[\u001b[0m\u001b[1;34m'All Ages in Poverty Percent'\u001b[0m\u001b[1;33m]\u001b[0m\u001b[1;33m)\u001b[0m\u001b[1;33m\u001b[0m\u001b[1;33m\u001b[0m\u001b[0m\n\u001b[0;32m      5\u001b[0m \u001b[1;33m\u001b[0m\u001b[0m\n",
      "\u001b[1;31mNameError\u001b[0m: name 'SF_Income_Health_df' is not defined"
     ]
    }
   ],
   "source": [
    "SF_County_Poverty_df = SF_Income_Health_df.loc[:, [\"County\", \"All Ages in Poverty Percent\"]]\n",
    "SF_County_Poverty_df.set_index(\"County\", inplace=True)\n",
    "SF_Pov_df = SF_County_Poverty_df.groupby([\"County\"])\n",
    "SF_Pov_df = SF_Pov_df.mean(['All Ages in Poverty Percent'])\n",
    "\n",
    "SF_Pov_df"
   ]
  },
  {
   "cell_type": "code",
   "execution_count": null,
   "metadata": {},
   "outputs": [],
   "source": [
    "sort_SF_Pov_df = SF_Pov_df.sort_values (by =[\"All Ages in Poverty Percent\"], axis = 0, ascending=[True])\n",
    "sort_SF_Pov_df"
   ]
  },
  {
   "cell_type": "code",
   "execution_count": null,
   "metadata": {
    "scrolled": true
   },
   "outputs": [],
   "source": [
    "SF_Pov_Chart = sort_SF_Pov_df.plot(kind =\"barh\", facecolor=\"green\", align=\"center\", alpha=0.5, legend=False)\n",
    "\n",
    "# Set the xlabel and ylabel using class methods\n",
    "SF_Pov_Chart.set_xlabel(\"Percentage Poverty\")\n",
    "SF_Pov_Chart.set_ylabel(\"County\")\n",
    "SF_Pov_Chart.set_title(\"Percentage Poverty Vs Counties in San Francisco, CA\")"
   ]
  },
  {
   "cell_type": "code",
   "execution_count": null,
   "metadata": {},
   "outputs": [],
   "source": [
    "SF_Pov_Chart.figure.savefig('SF_Percentage_Poverty.png')"
   ]
  },
  {
   "cell_type": "markdown",
   "metadata": {},
   "source": [
    "# Baton Rouge, LA"
   ]
  },
  {
   "cell_type": "code",
   "execution_count": null,
   "metadata": {},
   "outputs": [],
   "source": [
    "BR_Income_Health_df = Final_Income_Life_mean_df.loc[(Final_Income_Life_mean_df[\"County\"]==\"Ascension Parish (LA)\") | (Final_Income_Life_mean_df[\"County\"]==\"East Baton Rouge Parish (LA)\") | (Final_Income_Life_mean_df[\"County\"]==\"East Feliciana Parish (LA)\") | (Final_Income_Life_mean_df[\"County\"]==\"Iberville Parish (LA)\") | (Final_Income_Life_mean_df[\"County\"]==\"Livingston Parish (LA)\") | (Final_Income_Life_mean_df[\"County\"]==\"Pointe Coupee Parish (LA)\") | (Final_Income_Life_mean_df[\"County\"]==\"St. Helena Parish (LA)\") | (Final_Income_Life_mean_df[\"County\"]==\"West Baton Rouge Parish (LA)\") | (Final_Income_Life_mean_df[\"County\"]==\"West Feliciana Parish (LA)\")]\n",
    "BR_Income_Health_df"
   ]
  },
  {
   "cell_type": "markdown",
   "metadata": {},
   "source": [
    "# Bar Graph _Baton Rouge, LA"
   ]
  },
  {
   "cell_type": "code",
   "execution_count": null,
   "metadata": {},
   "outputs": [],
   "source": [
    "BR_County_Poverty_df = BR_Income_Health_df.loc[:, [\"County\", \"All Ages in Poverty Percent\"]]\n",
    "BR_County_Poverty_df.set_index(\"County\", inplace=True)\n",
    "BR_Pov_df = BR_County_Poverty_df.groupby([\"County\"])\n",
    "BR_Pov_df = BR_Pov_df.mean(['All Ages in Poverty Percent'])\n",
    "\n",
    "BR_Pov_df"
   ]
  },
  {
   "cell_type": "code",
   "execution_count": null,
   "metadata": {},
   "outputs": [],
   "source": [
    "sort_BR_Pov_df = BR_Pov_df.sort_values (by =[\"All Ages in Poverty Percent\"], axis = 0, ascending=[True])\n",
    "sort_BR_Pov_df"
   ]
  },
  {
   "cell_type": "code",
   "execution_count": null,
   "metadata": {},
   "outputs": [],
   "source": [
    "BR_Pov_Chart = sort_BR_Pov_df.plot(kind =\"barh\", facecolor=\"orange\", align=\"center\", alpha=0.5, legend=False)\n",
    "\n",
    "# Set the xlabel and ylabel using class methods\n",
    "BR_Pov_Chart.set_xlabel(\"Percentage Poverty\")\n",
    "BR_Pov_Chart.set_ylabel(\"County\")\n",
    "BR_Pov_Chart.set_title(\"Percentage Poverty Vs Counties in Baton Rouge, LA\")"
   ]
  },
  {
   "cell_type": "code",
   "execution_count": null,
   "metadata": {},
   "outputs": [],
   "source": [
    "BR_Pov_Chart.figure.savefig('BR_Percentage_Poverty.png')"
   ]
  },
  {
   "cell_type": "markdown",
   "metadata": {},
   "source": [
    "# Pittsburgh, PA"
   ]
  },
  {
   "cell_type": "code",
   "execution_count": null,
   "metadata": {},
   "outputs": [],
   "source": [
    "PIT_Income_Health_df = Final_Income_Life_mean_df.loc[(Final_Income_Life_mean_df[\"County\"]==\"Allegheny County (PA)\") | (Final_Income_Life_mean_df[\"County\"]==\"Beaver County (PA)\") | (Final_Income_Life_mean_df[\"County\"]==\"Butler County (PA)\") | (Final_Income_Life_mean_df[\"County\"]==\"Washington County (PA)\") | (Final_Income_Life_mean_df[\"County\"]==\"Westmoreland County (PA)\")]\n",
    "PIT_Income_Health_df"
   ]
  },
  {
   "cell_type": "markdown",
   "metadata": {},
   "source": [
    "# Bar Graph _Pittsburgh, PA"
   ]
  },
  {
   "cell_type": "code",
   "execution_count": null,
   "metadata": {},
   "outputs": [],
   "source": [
    "PIT_County_Poverty_df = PIT_Income_Health_df.loc[:, [\"County\", \"All Ages in Poverty Percent\"]]\n",
    "PIT_County_Poverty_df.set_index(\"County\", inplace=True)\n",
    "PIT_Pov_df = PIT_County_Poverty_df.groupby([\"County\"])\n",
    "PIT_Pov_df = PIT_Pov_df.mean(['All Ages in Poverty Percent'])\n",
    "\n",
    "PIT_Pov_df"
   ]
  },
  {
   "cell_type": "code",
   "execution_count": null,
   "metadata": {},
   "outputs": [],
   "source": [
    "sort_PIT_Pov_df = PIT_Pov_df.sort_values (by =[\"All Ages in Poverty Percent\"], axis = 0, ascending=[True])\n",
    "sort_PIT_Pov_df"
   ]
  },
  {
   "cell_type": "code",
   "execution_count": null,
   "metadata": {},
   "outputs": [],
   "source": [
    "PIT_Pov_Chart = sort_PIT_Pov_df.plot(kind =\"barh\", facecolor=\"blue\", align=\"center\", alpha=0.5, legend=False)\n",
    "\n",
    "# Set the xlabel and ylabel using class methods\n",
    "PIT_Pov_Chart.set_xlabel(\"Percentage Poverty\")\n",
    "PIT_Pov_Chart.set_ylabel(\"County\")\n",
    "PIT_Pov_Chart.set_title(\"Percentage Poverty Vs Counties in Pittsburg, PA\")"
   ]
  },
  {
   "cell_type": "code",
   "execution_count": null,
   "metadata": {},
   "outputs": [],
   "source": [
    "PIT_Pov_Chart.figure.savefig('PIT_Percentage_Poverty.png')"
   ]
  },
  {
   "cell_type": "markdown",
   "metadata": {},
   "source": [
    "# Comparison of SF , BR and PIT"
   ]
  },
  {
   "cell_type": "code",
   "execution_count": null,
   "metadata": {},
   "outputs": [],
   "source": [
    "Country_Poverty_df = Final_Income_Life_mean_df.loc[:, [\"State\", \"All Ages in Poverty Percent\"]]\n",
    "\n",
    "Country_Poverty_df.loc[Country_Poverty_df['State'] == 42, 'State'] = 'Pittsburgh'\n",
    "Country_Poverty_df.loc[Country_Poverty_df['State'] == 22, 'State'] = 'Baton Rouge'\n",
    "Country_Poverty_df.loc[Country_Poverty_df['State'] == 6, 'State'] = 'San Francisco'\n",
    "\n",
    "Country_Poverty_df"
   ]
  },
  {
   "cell_type": "code",
   "execution_count": null,
   "metadata": {},
   "outputs": [],
   "source": [
    "ax = sns.boxplot(x=\"State\", y=\"All Ages in Poverty Percent\", data=Country_Poverty_df, palette=\"Set2\")\n",
    "\n",
    "ax.set_title('Percent Poverty of Cities for Year 2010 to 2015')\n",
    "ax.set_ylabel('Percentage Poverty')\n",
    "\n",
    "PercentPoverty = Country_Poverty_df[\"All Ages in Poverty Percent\"]\n",
    "\n",
    "quartiles = PercentPoverty.quantile([.25,.5,.75])\n",
    "lowerq = quartiles[0.25]\n",
    "upperq = quartiles[0.75]\n",
    "iqr = upperq-lowerq\n",
    "\n",
    "print(f\"The lower quartile of Percentage Povertyis: {lowerq}\")\n",
    "print(f\"The upper quartile of Percentage Povertyy is: {upperq}\")\n",
    "print(f\"The interquartile range of Percentage Poverty is: {iqr}\")\n",
    "\n",
    "#print(f\"The the median of Life Expectancy is: {quartiles[0.5]} \")\n",
    "\n",
    "lower_bound = lowerq - (1.5*iqr)\n",
    "upper_bound = upperq + (1.5*iqr)\n",
    "print(f\"Values below {lower_bound} could be outliers.\")\n",
    "print(f\"Values above {upper_bound} could be outliers.\")"
   ]
  },
  {
   "cell_type": "code",
   "execution_count": null,
   "metadata": {},
   "outputs": [],
   "source": [
    "ax.figure.savefig('Country_Percentage_Poverty.png')"
   ]
  }
 ],
 "metadata": {
  "kernelspec": {
   "display_name": "Python 3",
   "language": "python",
   "name": "python3"
  },
  "language_info": {
   "codemirror_mode": {
    "name": "ipython",
    "version": 3
   },
   "file_extension": ".py",
   "mimetype": "text/x-python",
   "name": "python",
   "nbconvert_exporter": "python",
   "pygments_lexer": "ipython3",
   "version": "3.8.5"
  }
 },
 "nbformat": 4,
 "nbformat_minor": 5
}
