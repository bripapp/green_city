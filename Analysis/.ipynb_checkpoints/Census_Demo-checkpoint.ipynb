{
 "cells": [
  {
   "cell_type": "code",
   "execution_count": 1,
   "metadata": {},
   "outputs": [],
   "source": [
    "# Dependencies\n",
    "import numpy as np\n",
    "import pandas as pd\n",
    "import matplotlib.pyplot as plt\n",
    "import requests\n",
    "from census import Census\n",
    "\n",
    "# Census API Key\n",
    "from config import api_key\n",
    "#c = Census(api_key, year=2013)"
   ]
  },
  {
   "cell_type": "code",
   "execution_count": 7,
   "metadata": {},
   "outputs": [],
   "source": [
    "#fuel_type=E85,ELEC&state=CA&limit=2\n",
    "url = \"https://developer.nrel.gov/api/alt-fuel-stations/v1.json?fuel_type=E85,ELEC&state=CA&limit=2&api_key=mdNhNfMdhHRj9wfsyf9KQuhYahCpbTpCBw55UNP4\"  "
   ]
  },
  {
   "cell_type": "code",
   "execution_count": 8,
   "metadata": {},
   "outputs": [
    {
     "data": {
      "text/plain": [
       "'https://developer.nrel.gov/api/alt-fuel-stations/v1.json?fuel_type=E85,ELEC&state=CA&limit=2&api_key=mdNhNfMdhHRj9wfsyf9KQuhYahCpbTpCBw55UNP4'"
      ]
     },
     "execution_count": 8,
     "metadata": {},
     "output_type": "execute_result"
    }
   ],
   "source": [
    "url"
   ]
  },
  {
   "cell_type": "code",
   "execution_count": 3,
   "metadata": {},
   "outputs": [],
   "source": [
    "#base_url = \"https://developer.nrel.gov/api/alt-fuel-stations/v1.json?\"\n",
    "#https://bcl.nrel.gov/developer"
   ]
  },
  {
   "cell_type": "code",
   "execution_count": 10,
   "metadata": {},
   "outputs": [
    {
     "data": {
      "text/plain": [
       "{'station_locator_url': 'https://afdc.energy.gov/stations/',\n",
       " 'total_results': 13617,\n",
       " 'station_counts': {'total': 38061,\n",
       "  'fuels': {'BD': {'total': 0},\n",
       "   'E85': {'total': 217},\n",
       "   'ELEC': {'total': 37844, 'stations': {'total': 13400}},\n",
       "   'HY': {'total': 0},\n",
       "   'LNG': {'total': 0},\n",
       "   'CNG': {'total': 0},\n",
       "   'LPG': {'total': 0}}},\n",
       " 'fuel_stations': [{'access_code': 'private',\n",
       "   'access_days_time': 'Fleet use only',\n",
       "   'access_detail_code': None,\n",
       "   'cards_accepted': None,\n",
       "   'date_last_confirmed': '2020-09-03',\n",
       "   'expected_date': None,\n",
       "   'fuel_type_code': 'ELEC',\n",
       "   'groups_with_access_code': 'Private',\n",
       "   'id': 1517,\n",
       "   'open_date': '1999-10-15',\n",
       "   'owner_type_code': 'LG',\n",
       "   'status_code': 'E',\n",
       "   'station_name': 'LADWP - Truesdale Center',\n",
       "   'station_phone': None,\n",
       "   'updated_at': '2021-02-24T18:23:16Z',\n",
       "   'facility_type': 'UTILITY',\n",
       "   'geocode_status': 'GPS',\n",
       "   'latitude': 34.2483191527193,\n",
       "   'longitude': -118.3879713743439,\n",
       "   'city': 'Sun Valley',\n",
       "   'intersection_directions': None,\n",
       "   'plus4': None,\n",
       "   'state': 'CA',\n",
       "   'street_address': '11797 Truesdale St',\n",
       "   'zip': '91352',\n",
       "   'country': 'US',\n",
       "   'bd_blends': None,\n",
       "   'cng_dispenser_num': None,\n",
       "   'cng_fill_type_code': None,\n",
       "   'cng_psi': None,\n",
       "   'cng_renewable_source': None,\n",
       "   'cng_total_compression': None,\n",
       "   'cng_total_storage': None,\n",
       "   'cng_vehicle_class': None,\n",
       "   'e85_blender_pump': None,\n",
       "   'e85_other_ethanol_blends': None,\n",
       "   'ev_connector_types': ['CHADEMO', 'J1772', 'J1772COMBO'],\n",
       "   'ev_dc_fast_num': 2,\n",
       "   'ev_level1_evse_num': None,\n",
       "   'ev_level2_evse_num': 40,\n",
       "   'ev_network': 'Non-Networked',\n",
       "   'ev_network_web': None,\n",
       "   'ev_other_evse': None,\n",
       "   'ev_pricing': None,\n",
       "   'ev_renewable_source': None,\n",
       "   'hy_is_retail': None,\n",
       "   'hy_pressures': None,\n",
       "   'hy_standards': None,\n",
       "   'hy_status_link': None,\n",
       "   'lng_renewable_source': None,\n",
       "   'lng_vehicle_class': None,\n",
       "   'lpg_primary': None,\n",
       "   'lpg_nozzle_types': None,\n",
       "   'ng_fill_type_code': None,\n",
       "   'ng_psi': None,\n",
       "   'ng_vehicle_class': None,\n",
       "   'access_days_time_fr': None,\n",
       "   'intersection_directions_fr': None,\n",
       "   'bd_blends_fr': None,\n",
       "   'groups_with_access_code_fr': 'Privé',\n",
       "   'ev_pricing_fr': None},\n",
       "  {'access_code': 'private',\n",
       "   'access_days_time': 'Employee use only',\n",
       "   'access_detail_code': None,\n",
       "   'cards_accepted': None,\n",
       "   'date_last_confirmed': '2021-01-14',\n",
       "   'expected_date': None,\n",
       "   'fuel_type_code': 'ELEC',\n",
       "   'groups_with_access_code': 'TEMPORARILY UNAVAILABLE (Private)',\n",
       "   'id': 1520,\n",
       "   'open_date': None,\n",
       "   'owner_type_code': 'T',\n",
       "   'status_code': 'T',\n",
       "   'station_name': 'Southern California Edison - Rosemead Office Building 1',\n",
       "   'station_phone': None,\n",
       "   'updated_at': '2021-02-24T18:23:16Z',\n",
       "   'facility_type': 'UTILITY',\n",
       "   'geocode_status': '200-9',\n",
       "   'latitude': 34.050745,\n",
       "   'longitude': -118.081014,\n",
       "   'city': 'Rosemead',\n",
       "   'intersection_directions': None,\n",
       "   'plus4': None,\n",
       "   'state': 'CA',\n",
       "   'street_address': '2244 Walnut Grove Ave',\n",
       "   'zip': '91770',\n",
       "   'country': 'US',\n",
       "   'bd_blends': None,\n",
       "   'cng_dispenser_num': None,\n",
       "   'cng_fill_type_code': None,\n",
       "   'cng_psi': None,\n",
       "   'cng_renewable_source': None,\n",
       "   'cng_total_compression': None,\n",
       "   'cng_total_storage': None,\n",
       "   'cng_vehicle_class': None,\n",
       "   'e85_blender_pump': None,\n",
       "   'e85_other_ethanol_blends': None,\n",
       "   'ev_connector_types': ['J1772', 'NEMA520'],\n",
       "   'ev_dc_fast_num': None,\n",
       "   'ev_level1_evse_num': 22,\n",
       "   'ev_level2_evse_num': 22,\n",
       "   'ev_network': 'Greenlots',\n",
       "   'ev_network_web': 'http://greenlots.com/',\n",
       "   'ev_other_evse': None,\n",
       "   'ev_pricing': None,\n",
       "   'ev_renewable_source': None,\n",
       "   'hy_is_retail': None,\n",
       "   'hy_pressures': None,\n",
       "   'hy_standards': None,\n",
       "   'hy_status_link': None,\n",
       "   'lng_renewable_source': None,\n",
       "   'lng_vehicle_class': None,\n",
       "   'lpg_primary': None,\n",
       "   'lpg_nozzle_types': None,\n",
       "   'ng_fill_type_code': None,\n",
       "   'ng_psi': None,\n",
       "   'ng_vehicle_class': None,\n",
       "   'access_days_time_fr': None,\n",
       "   'intersection_directions_fr': None,\n",
       "   'bd_blends_fr': None,\n",
       "   'groups_with_access_code_fr': 'TEMPORAIREMENT SUSPENDU (Privé)',\n",
       "   'ev_pricing_fr': None}]}"
      ]
     },
     "execution_count": 10,
     "metadata": {},
     "output_type": "execute_result"
    }
   ],
   "source": [
    "response = requests.get(base_url).json()\n",
    "response"
   ]
  },
  {
   "cell_type": "code",
   "execution_count": null,
   "metadata": {},
   "outputs": [],
   "source": [
    "http://bcl.nrel.gov/api/search/[keyword].[format]?[params]"
   ]
  },
  {
   "cell_type": "code",
   "execution_count": null,
   "metadata": {},
   "outputs": [],
   "source": [
    "GET /api/solar/data_query/v1.format?parameters"
   ]
  },
  {
   "cell_type": "code",
   "execution_count": 12,
   "metadata": {},
   "outputs": [],
   "source": [
    "health_who_url = \"https://ghoapi.azureedge.net/api/Indicator?$filter=IndicatorName eq 'Ambient air pollution attributable deaths'\""
   ]
  },
  {
   "cell_type": "code",
   "execution_count": 13,
   "metadata": {},
   "outputs": [
    {
     "data": {
      "text/plain": [
       "{'@odata.context': 'https://ghoapi.azureedge.net/api/$metadata#Indicator',\n",
       " 'value': [{'IndicatorCode': 'AIR_1',\n",
       "   'IndicatorName': 'Ambient air pollution attributable deaths',\n",
       "   'Language': 'EN'},\n",
       "  {'IndicatorCode': 'AIR_41',\n",
       "   'IndicatorName': 'Ambient air pollution attributable deaths',\n",
       "   'Language': 'EN'}]}"
      ]
     },
     "execution_count": 13,
     "metadata": {},
     "output_type": "execute_result"
    }
   ],
   "source": [
    "response_health = requests.get(health_who_url).json()\n",
    "response_health"
   ]
  },
  {
   "cell_type": "code",
   "execution_count": 16,
   "metadata": {},
   "outputs": [],
   "source": [
    "cdc_url = \"https://wonder.cdc.gov/wonder/help/WONDER-API.html\""
   ]
  },
  {
   "cell_type": "code",
   "execution_count": 17,
   "metadata": {},
   "outputs": [
    {
     "ename": "JSONDecodeError",
     "evalue": "Expecting value: line 1 column 1 (char 0)",
     "output_type": "error",
     "traceback": [
      "\u001b[1;31m---------------------------------------------------------------------------\u001b[0m",
      "\u001b[1;31mJSONDecodeError\u001b[0m                           Traceback (most recent call last)",
      "\u001b[1;32m<ipython-input-17-f441b49fcea0>\u001b[0m in \u001b[0;36m<module>\u001b[1;34m\u001b[0m\n\u001b[1;32m----> 1\u001b[1;33m \u001b[0mresponse_cdc\u001b[0m \u001b[1;33m=\u001b[0m \u001b[0mrequests\u001b[0m\u001b[1;33m.\u001b[0m\u001b[0mget\u001b[0m\u001b[1;33m(\u001b[0m\u001b[0mcdc_url\u001b[0m\u001b[1;33m)\u001b[0m\u001b[1;33m.\u001b[0m\u001b[0mjson\u001b[0m\u001b[1;33m(\u001b[0m\u001b[1;33m)\u001b[0m\u001b[1;33m\u001b[0m\u001b[1;33m\u001b[0m\u001b[0m\n\u001b[0m\u001b[0;32m      2\u001b[0m \u001b[0mresponse_cdc\u001b[0m\u001b[1;33m\u001b[0m\u001b[1;33m\u001b[0m\u001b[0m\n",
      "\u001b[1;32mC:\\ProgramData\\Anaconda3\\lib\\site-packages\\requests\\models.py\u001b[0m in \u001b[0;36mjson\u001b[1;34m(self, **kwargs)\u001b[0m\n\u001b[0;32m    896\u001b[0m                     \u001b[1;31m# used.\u001b[0m\u001b[1;33m\u001b[0m\u001b[1;33m\u001b[0m\u001b[1;33m\u001b[0m\u001b[0m\n\u001b[0;32m    897\u001b[0m                     \u001b[1;32mpass\u001b[0m\u001b[1;33m\u001b[0m\u001b[1;33m\u001b[0m\u001b[0m\n\u001b[1;32m--> 898\u001b[1;33m         \u001b[1;32mreturn\u001b[0m \u001b[0mcomplexjson\u001b[0m\u001b[1;33m.\u001b[0m\u001b[0mloads\u001b[0m\u001b[1;33m(\u001b[0m\u001b[0mself\u001b[0m\u001b[1;33m.\u001b[0m\u001b[0mtext\u001b[0m\u001b[1;33m,\u001b[0m \u001b[1;33m**\u001b[0m\u001b[0mkwargs\u001b[0m\u001b[1;33m)\u001b[0m\u001b[1;33m\u001b[0m\u001b[1;33m\u001b[0m\u001b[0m\n\u001b[0m\u001b[0;32m    899\u001b[0m \u001b[1;33m\u001b[0m\u001b[0m\n\u001b[0;32m    900\u001b[0m     \u001b[1;33m@\u001b[0m\u001b[0mproperty\u001b[0m\u001b[1;33m\u001b[0m\u001b[1;33m\u001b[0m\u001b[0m\n",
      "\u001b[1;32mC:\\ProgramData\\Anaconda3\\lib\\json\\__init__.py\u001b[0m in \u001b[0;36mloads\u001b[1;34m(s, cls, object_hook, parse_float, parse_int, parse_constant, object_pairs_hook, **kw)\u001b[0m\n\u001b[0;32m    355\u001b[0m             \u001b[0mparse_int\u001b[0m \u001b[1;32mis\u001b[0m \u001b[1;32mNone\u001b[0m \u001b[1;32mand\u001b[0m \u001b[0mparse_float\u001b[0m \u001b[1;32mis\u001b[0m \u001b[1;32mNone\u001b[0m \u001b[1;32mand\u001b[0m\u001b[1;33m\u001b[0m\u001b[1;33m\u001b[0m\u001b[0m\n\u001b[0;32m    356\u001b[0m             parse_constant is None and object_pairs_hook is None and not kw):\n\u001b[1;32m--> 357\u001b[1;33m         \u001b[1;32mreturn\u001b[0m \u001b[0m_default_decoder\u001b[0m\u001b[1;33m.\u001b[0m\u001b[0mdecode\u001b[0m\u001b[1;33m(\u001b[0m\u001b[0ms\u001b[0m\u001b[1;33m)\u001b[0m\u001b[1;33m\u001b[0m\u001b[1;33m\u001b[0m\u001b[0m\n\u001b[0m\u001b[0;32m    358\u001b[0m     \u001b[1;32mif\u001b[0m \u001b[0mcls\u001b[0m \u001b[1;32mis\u001b[0m \u001b[1;32mNone\u001b[0m\u001b[1;33m:\u001b[0m\u001b[1;33m\u001b[0m\u001b[1;33m\u001b[0m\u001b[0m\n\u001b[0;32m    359\u001b[0m         \u001b[0mcls\u001b[0m \u001b[1;33m=\u001b[0m \u001b[0mJSONDecoder\u001b[0m\u001b[1;33m\u001b[0m\u001b[1;33m\u001b[0m\u001b[0m\n",
      "\u001b[1;32mC:\\ProgramData\\Anaconda3\\lib\\json\\decoder.py\u001b[0m in \u001b[0;36mdecode\u001b[1;34m(self, s, _w)\u001b[0m\n\u001b[0;32m    335\u001b[0m \u001b[1;33m\u001b[0m\u001b[0m\n\u001b[0;32m    336\u001b[0m         \"\"\"\n\u001b[1;32m--> 337\u001b[1;33m         \u001b[0mobj\u001b[0m\u001b[1;33m,\u001b[0m \u001b[0mend\u001b[0m \u001b[1;33m=\u001b[0m \u001b[0mself\u001b[0m\u001b[1;33m.\u001b[0m\u001b[0mraw_decode\u001b[0m\u001b[1;33m(\u001b[0m\u001b[0ms\u001b[0m\u001b[1;33m,\u001b[0m \u001b[0midx\u001b[0m\u001b[1;33m=\u001b[0m\u001b[0m_w\u001b[0m\u001b[1;33m(\u001b[0m\u001b[0ms\u001b[0m\u001b[1;33m,\u001b[0m \u001b[1;36m0\u001b[0m\u001b[1;33m)\u001b[0m\u001b[1;33m.\u001b[0m\u001b[0mend\u001b[0m\u001b[1;33m(\u001b[0m\u001b[1;33m)\u001b[0m\u001b[1;33m)\u001b[0m\u001b[1;33m\u001b[0m\u001b[1;33m\u001b[0m\u001b[0m\n\u001b[0m\u001b[0;32m    338\u001b[0m         \u001b[0mend\u001b[0m \u001b[1;33m=\u001b[0m \u001b[0m_w\u001b[0m\u001b[1;33m(\u001b[0m\u001b[0ms\u001b[0m\u001b[1;33m,\u001b[0m \u001b[0mend\u001b[0m\u001b[1;33m)\u001b[0m\u001b[1;33m.\u001b[0m\u001b[0mend\u001b[0m\u001b[1;33m(\u001b[0m\u001b[1;33m)\u001b[0m\u001b[1;33m\u001b[0m\u001b[1;33m\u001b[0m\u001b[0m\n\u001b[0;32m    339\u001b[0m         \u001b[1;32mif\u001b[0m \u001b[0mend\u001b[0m \u001b[1;33m!=\u001b[0m \u001b[0mlen\u001b[0m\u001b[1;33m(\u001b[0m\u001b[0ms\u001b[0m\u001b[1;33m)\u001b[0m\u001b[1;33m:\u001b[0m\u001b[1;33m\u001b[0m\u001b[1;33m\u001b[0m\u001b[0m\n",
      "\u001b[1;32mC:\\ProgramData\\Anaconda3\\lib\\json\\decoder.py\u001b[0m in \u001b[0;36mraw_decode\u001b[1;34m(self, s, idx)\u001b[0m\n\u001b[0;32m    353\u001b[0m             \u001b[0mobj\u001b[0m\u001b[1;33m,\u001b[0m \u001b[0mend\u001b[0m \u001b[1;33m=\u001b[0m \u001b[0mself\u001b[0m\u001b[1;33m.\u001b[0m\u001b[0mscan_once\u001b[0m\u001b[1;33m(\u001b[0m\u001b[0ms\u001b[0m\u001b[1;33m,\u001b[0m \u001b[0midx\u001b[0m\u001b[1;33m)\u001b[0m\u001b[1;33m\u001b[0m\u001b[1;33m\u001b[0m\u001b[0m\n\u001b[0;32m    354\u001b[0m         \u001b[1;32mexcept\u001b[0m \u001b[0mStopIteration\u001b[0m \u001b[1;32mas\u001b[0m \u001b[0merr\u001b[0m\u001b[1;33m:\u001b[0m\u001b[1;33m\u001b[0m\u001b[1;33m\u001b[0m\u001b[0m\n\u001b[1;32m--> 355\u001b[1;33m             \u001b[1;32mraise\u001b[0m \u001b[0mJSONDecodeError\u001b[0m\u001b[1;33m(\u001b[0m\u001b[1;34m\"Expecting value\"\u001b[0m\u001b[1;33m,\u001b[0m \u001b[0ms\u001b[0m\u001b[1;33m,\u001b[0m \u001b[0merr\u001b[0m\u001b[1;33m.\u001b[0m\u001b[0mvalue\u001b[0m\u001b[1;33m)\u001b[0m \u001b[1;32mfrom\u001b[0m \u001b[1;32mNone\u001b[0m\u001b[1;33m\u001b[0m\u001b[1;33m\u001b[0m\u001b[0m\n\u001b[0m\u001b[0;32m    356\u001b[0m         \u001b[1;32mreturn\u001b[0m \u001b[0mobj\u001b[0m\u001b[1;33m,\u001b[0m \u001b[0mend\u001b[0m\u001b[1;33m\u001b[0m\u001b[1;33m\u001b[0m\u001b[0m\n",
      "\u001b[1;31mJSONDecodeError\u001b[0m: Expecting value: line 1 column 1 (char 0)"
     ]
    }
   ],
   "source": [
    "response_cdc = requests.get(cdc_url).json()\n",
    "response_cdc"
   ]
  },
  {
   "cell_type": "code",
   "execution_count": null,
   "metadata": {},
   "outputs": [],
   "source": [
    "#life expectancy data cdc : Downloaded CSV\n",
    "https://www.cdc.gov/nchs/data-visualization/life-expectancy/\n",
    "        \n",
    "#josn format\n",
    "https://data.cdc.gov/NCHS/U-S-Life-Expectancy-at-Birth-by-State-and-Census-T/5h56-n989"
   ]
  },
  {
   "cell_type": "code",
   "execution_count": null,
   "metadata": {},
   "outputs": [],
   "source": [
    "https://stackoverflow.com/questions/34504050/how-to-convert-selected-html-to-json"
   ]
  },
  {
   "cell_type": "code",
   "execution_count": null,
   "metadata": {},
   "outputs": [],
   "source": []
  },
  {
   "cell_type": "code",
   "execution_count": 2,
   "metadata": {},
   "outputs": [
    {
     "name": "stdout",
     "output_type": "stream",
     "text": [
      "33120\n"
     ]
    },
    {
     "data": {
      "text/html": [
       "<div>\n",
       "<style>\n",
       "    .dataframe thead tr:only-child th {\n",
       "        text-align: right;\n",
       "    }\n",
       "\n",
       "    .dataframe thead th {\n",
       "        text-align: left;\n",
       "    }\n",
       "\n",
       "    .dataframe tbody tr th {\n",
       "        vertical-align: top;\n",
       "    }\n",
       "</style>\n",
       "<table border=\"1\" class=\"dataframe\">\n",
       "  <thead>\n",
       "    <tr style=\"text-align: right;\">\n",
       "      <th></th>\n",
       "      <th>Zipcode</th>\n",
       "      <th>Population</th>\n",
       "      <th>Median Age</th>\n",
       "      <th>Household Income</th>\n",
       "      <th>Per Capita Income</th>\n",
       "      <th>Poverty Count</th>\n",
       "      <th>Poverty Rate</th>\n",
       "    </tr>\n",
       "  </thead>\n",
       "  <tbody>\n",
       "    <tr>\n",
       "      <th>0</th>\n",
       "      <td>00601</td>\n",
       "      <td>18450.0</td>\n",
       "      <td>36.6</td>\n",
       "      <td>12041.0</td>\n",
       "      <td>7380.0</td>\n",
       "      <td>10816.0</td>\n",
       "      <td>58.623306</td>\n",
       "    </tr>\n",
       "    <tr>\n",
       "      <th>1</th>\n",
       "      <td>00602</td>\n",
       "      <td>41302.0</td>\n",
       "      <td>38.6</td>\n",
       "      <td>15663.0</td>\n",
       "      <td>8463.0</td>\n",
       "      <td>22409.0</td>\n",
       "      <td>54.256452</td>\n",
       "    </tr>\n",
       "    <tr>\n",
       "      <th>2</th>\n",
       "      <td>00603</td>\n",
       "      <td>53683.0</td>\n",
       "      <td>38.9</td>\n",
       "      <td>15485.0</td>\n",
       "      <td>9176.0</td>\n",
       "      <td>26220.0</td>\n",
       "      <td>48.842278</td>\n",
       "    </tr>\n",
       "    <tr>\n",
       "      <th>3</th>\n",
       "      <td>00606</td>\n",
       "      <td>6591.0</td>\n",
       "      <td>37.3</td>\n",
       "      <td>15019.0</td>\n",
       "      <td>6383.0</td>\n",
       "      <td>3721.0</td>\n",
       "      <td>56.455773</td>\n",
       "    </tr>\n",
       "    <tr>\n",
       "      <th>4</th>\n",
       "      <td>00610</td>\n",
       "      <td>28963.0</td>\n",
       "      <td>39.2</td>\n",
       "      <td>16707.0</td>\n",
       "      <td>7892.0</td>\n",
       "      <td>14569.0</td>\n",
       "      <td>50.302110</td>\n",
       "    </tr>\n",
       "  </tbody>\n",
       "</table>\n",
       "</div>"
      ],
      "text/plain": [
       "  Zipcode  Population  Median Age  Household Income  Per Capita Income  \\\n",
       "0   00601     18450.0        36.6           12041.0             7380.0   \n",
       "1   00602     41302.0        38.6           15663.0             8463.0   \n",
       "2   00603     53683.0        38.9           15485.0             9176.0   \n",
       "3   00606      6591.0        37.3           15019.0             6383.0   \n",
       "4   00610     28963.0        39.2           16707.0             7892.0   \n",
       "\n",
       "   Poverty Count  Poverty Rate  \n",
       "0        10816.0     58.623306  \n",
       "1        22409.0     54.256452  \n",
       "2        26220.0     48.842278  \n",
       "3         3721.0     56.455773  \n",
       "4        14569.0     50.302110  "
      ]
     },
     "execution_count": 2,
     "metadata": {},
     "output_type": "execute_result"
    }
   ],
   "source": [
    "# Run Census Search to retrieve data on all zip codes (2013 ACS5 Census)\n",
    "# See: https://github.com/CommerceDataService/census-wrapper for library documentation\n",
    "# See: https://gist.github.com/afhaque/60558290d6efd892351c4b64e5c01e9b for labels\n",
    "census_data = c.acs5.get((\"NAME\", \"B19013_001E\", \"B01003_001E\", \"B01002_001E\",\n",
    "                          \"B19301_001E\",\n",
    "                          \"B17001_002E\"), {'for': 'zip code tabulation area:*'})\n",
    "\n",
    "# Convert to DataFrame\n",
    "census_pd = pd.DataFrame(census_data)\n",
    "\n",
    "# Column Reordering\n",
    "census_pd = census_pd.rename(columns={\"B01003_001E\": \"Population\",\n",
    "                                      \"B01002_001E\": \"Median Age\",\n",
    "                                      \"B19013_001E\": \"Household Income\",\n",
    "                                      \"B19301_001E\": \"Per Capita Income\",\n",
    "                                      \"B17001_002E\": \"Poverty Count\",\n",
    "                                      \"NAME\": \"Name\", \"zip code tabulation area\": \"Zipcode\"})\n",
    "\n",
    "# Add in Poverty Rate (Poverty Count / Population)\n",
    "census_pd[\"Poverty Rate\"] = 100 * \\\n",
    "    census_pd[\"Poverty Count\"].astype(\n",
    "        int) / census_pd[\"Population\"].astype(int)\n",
    "\n",
    "# Final DataFrame\n",
    "census_pd = census_pd[[\"Zipcode\", \"Population\", \"Median Age\", \"Household Income\",\n",
    "                       \"Per Capita Income\", \"Poverty Count\", \"Poverty Rate\"]]\n",
    "\n",
    "# Visualize\n",
    "print(len(census_pd))\n",
    "census_pd.head()"
   ]
  },
  {
   "cell_type": "code",
   "execution_count": 3,
   "metadata": {
    "collapsed": true
   },
   "outputs": [],
   "source": [
    "# Save as a csv\n",
    "# Note to avoid any issues later, use encoding=\"utf-8\"\n",
    "census_pd.to_csv(\"census_data.csv\", encoding=\"utf-8\", index=False)"
   ]
  }
 ],
 "metadata": {
  "anaconda-cloud": {},
  "kernelspec": {
   "display_name": "Python 3",
   "language": "python",
   "name": "python3"
  },
  "language_info": {
   "codemirror_mode": {
    "name": "ipython",
    "version": 3
   },
   "file_extension": ".py",
   "mimetype": "text/x-python",
   "name": "python",
   "nbconvert_exporter": "python",
   "pygments_lexer": "ipython3",
   "version": "3.8.5"
  },
  "latex_envs": {
   "LaTeX_envs_menu_present": true,
   "autoclose": false,
   "autocomplete": true,
   "bibliofile": "biblio.bib",
   "cite_by": "apalike",
   "current_citInitial": 1,
   "eqLabelWithNumbers": true,
   "eqNumInitial": 1,
   "hotkeys": {
    "equation": "Ctrl-E",
    "itemize": "Ctrl-I"
   },
   "labels_anchors": false,
   "latex_user_defs": false,
   "report_style_numbering": false,
   "user_envs_cfg": false
  }
 },
 "nbformat": 4,
 "nbformat_minor": 1
}
